{
 "cells": [
  {
   "cell_type": "markdown",
   "id": "e56f34fd-cc24-43bb-b31f-7bad1cb5a462",
   "metadata": {},
   "source": [
    "## Polymorphism"
   ]
  },
  {
   "cell_type": "code",
   "execution_count": 2,
   "id": "a0f80653-af49-4a6f-aaa0-57d778a9d029",
   "metadata": {},
   "outputs": [],
   "source": [
    "#1]method overriding\n",
    "# you have one child and one parent class you inherit parent class if both contain same method with same param.\n",
    "# then child's method will call after calling that method"
   ]
  },
  {
   "cell_type": "code",
   "execution_count": 4,
   "id": "65ae32cf-45bd-42bd-9bc8-03e74bdd1824",
   "metadata": {},
   "outputs": [
    {
     "name": "stdout",
     "output_type": "stream",
     "text": [
      "All good boys hows the josh\n"
     ]
    }
   ],
   "source": [
    "class Person:\n",
    "\n",
    "    def Hello(self):\n",
    "        print(\"heloo Boys Hows the josh!\")\n",
    "\n",
    "class Child(Person):\n",
    "    def Hello(self):\n",
    "        print(\"All good boys hows the josh\")\n",
    "\n",
    "c = Child()\n",
    "c.Hello()"
   ]
  },
  {
   "cell_type": "code",
   "execution_count": null,
   "id": "32496b4c-a9f5-413d-9161-1b9cb272796a",
   "metadata": {},
   "outputs": [],
   "source": []
  },
  {
   "cell_type": "code",
   "execution_count": 6,
   "id": "5bcb7771-ca06-4464-b615-5d87dcfeca70",
   "metadata": {},
   "outputs": [],
   "source": [
    "# #Method overloading:\n",
    "# In a single class their can be  many methods with same name but their behaviour is different and it is depend on input.\n",
    "# Inputs are different\n",
    "\n",
    "# python don't support it"
   ]
  },
  {
   "cell_type": "code",
   "execution_count": 7,
   "id": "0154d190-b609-432b-a708-59c1caed9e5e",
   "metadata": {},
   "outputs": [],
   "source": [
    "#How to implement method overloading --> using default parameter"
   ]
  },
  {
   "cell_type": "code",
   "execution_count": 13,
   "id": "5deef1cf-91ac-4164-b76a-b7afe1363099",
   "metadata": {},
   "outputs": [
    {
     "data": {
      "text/plain": [
       "154"
      ]
     },
     "execution_count": 13,
     "metadata": {},
     "output_type": "execute_result"
    }
   ],
   "source": [
    "class Shape:\n",
    "\n",
    "    def area(self,a,b=0):\n",
    "        if b == 0:\n",
    "            return 3.14*a*a\n",
    "        else:\n",
    "            return a*b\n",
    "s = Shape()\n",
    "s.area(7,22)"
   ]
  },
  {
   "cell_type": "code",
   "execution_count": null,
   "id": "d360cac2-c7c1-442d-9ce9-64da2c59499a",
   "metadata": {},
   "outputs": [],
   "source": []
  },
  {
   "cell_type": "code",
   "execution_count": 14,
   "id": "95bc53ca-a232-4021-801b-18261866a524",
   "metadata": {},
   "outputs": [],
   "source": [
    "#Operator Overloading:\n",
    "#same operator gives different outputs based on different inputs\n",
    "#Ex) magic methods"
   ]
  },
  {
   "cell_type": "code",
   "execution_count": 20,
   "id": "4d95de94-5917-477c-9df1-aeeb499154c3",
   "metadata": {},
   "outputs": [
    {
     "data": {
      "text/plain": [
       "'HelloWorld'"
      ]
     },
     "execution_count": 20,
     "metadata": {},
     "output_type": "execute_result"
    }
   ],
   "source": [
    "\"Hello\" + \"World\" #concatenation"
   ]
  },
  {
   "cell_type": "code",
   "execution_count": 19,
   "id": "d51e6f6c-45c2-443e-9a0d-6e1da170e992",
   "metadata": {},
   "outputs": [
    {
     "data": {
      "text/plain": [
       "9"
      ]
     },
     "execution_count": 19,
     "metadata": {},
     "output_type": "execute_result"
    }
   ],
   "source": [
    "4 + 5 # addition"
   ]
  },
  {
   "cell_type": "code",
   "execution_count": 18,
   "id": "5dd93c25-8e87-4a43-9d22-aff4c982f472",
   "metadata": {},
   "outputs": [
    {
     "data": {
      "text/plain": [
       "[1, 2, 3, 4, 5]"
      ]
     },
     "execution_count": 18,
     "metadata": {},
     "output_type": "execute_result"
    }
   ],
   "source": [
    "[1,2,3] + [4,5] # merging"
   ]
  },
  {
   "cell_type": "code",
   "execution_count": null,
   "id": "fb5b570a-47da-4aec-9234-823f86a8e728",
   "metadata": {},
   "outputs": [],
   "source": []
  },
  {
   "cell_type": "code",
   "execution_count": null,
   "id": "bdbb970d-dda4-4966-910e-7dfbce412484",
   "metadata": {},
   "outputs": [],
   "source": []
  },
  {
   "cell_type": "markdown",
   "id": "1159c82b-0731-4bdd-a2d6-7aeae5893e43",
   "metadata": {},
   "source": [
    "## Abstraction"
   ]
  },
  {
   "cell_type": "code",
   "execution_count": 21,
   "id": "5262ae56-a4d1-4e5b-8750-094054c0a3f1",
   "metadata": {},
   "outputs": [],
   "source": [
    "#You can hide imp(implementation lke details) and show only needed info\n",
    "# use case --> you can apply constraints on lower class"
   ]
  },
  {
   "cell_type": "code",
   "execution_count": 25,
   "id": "72e79fff-a085-4ed4-8f84-2ec20f18758b",
   "metadata": {},
   "outputs": [],
   "source": [
    "# abstract classs\n",
    "# 1.inherits ABC class\n",
    "# 2.atleast one abstract method . may contain concrete(contain code)methods\n",
    "# .abstract method -> do not contain any code &  uses @abstractmethod decorator.\n",
    "# all class that are inherits the abstract classs need to implement abstract method in their class.if 2 methods then need to implement 2 methods\n",
    "# 3.you can't create the object of abstract class\n",
    "#least used concept"
   ]
  },
  {
   "cell_type": "code",
   "execution_count": null,
   "id": "77a15208-a151-4bb9-b7dd-7d0e48632bd8",
   "metadata": {},
   "outputs": [],
   "source": []
  },
  {
   "cell_type": "code",
   "execution_count": 32,
   "id": "183f5d9b-c513-45a5-a55f-fa8fdee066da",
   "metadata": {},
   "outputs": [],
   "source": [
    "from abc import ABC,abstractmethod\n",
    "class Bank(ABC):\n",
    "    def db(self):\n",
    "        print(\"Connected to database\")\n",
    "\n",
    "    @abstractmethod\n",
    "    def sequirity(self):\n",
    "        pass"
   ]
  },
  {
   "cell_type": "code",
   "execution_count": 34,
   "id": "1a9e747f-eaab-45f9-88a3-3d452760fd6e",
   "metadata": {},
   "outputs": [],
   "source": [
    "class Web(Bank):\n",
    "\n",
    "    def login(self):\n",
    "        print(\"Loged in\")\n",
    "\n",
    "    def sequirity(self):\n",
    "        print(\"Sequrity\")"
   ]
  },
  {
   "cell_type": "code",
   "execution_count": 35,
   "id": "21de3261-a73c-452f-b499-505bbd7bf9ec",
   "metadata": {},
   "outputs": [],
   "source": [
    "w = Web()"
   ]
  },
  {
   "cell_type": "code",
   "execution_count": 36,
   "id": "87266991-f666-46d7-b4fc-72988457ca83",
   "metadata": {},
   "outputs": [
    {
     "name": "stdout",
     "output_type": "stream",
     "text": [
      "Connected to database\n"
     ]
    }
   ],
   "source": [
    "w.db()"
   ]
  },
  {
   "cell_type": "code",
   "execution_count": 37,
   "id": "d1462929-9fbc-4fe4-848b-f4c864957986",
   "metadata": {},
   "outputs": [
    {
     "name": "stdout",
     "output_type": "stream",
     "text": [
      "Sequrity\n"
     ]
    }
   ],
   "source": [
    "w.sequirity()"
   ]
  },
  {
   "cell_type": "code",
   "execution_count": null,
   "id": "af8ec17d-15da-4c9c-b07b-152ecabee8b6",
   "metadata": {},
   "outputs": [],
   "source": []
  }
 ],
 "metadata": {
  "kernelspec": {
   "display_name": "Python 3 (ipykernel)",
   "language": "python",
   "name": "python3"
  },
  "language_info": {
   "codemirror_mode": {
    "name": "ipython",
    "version": 3
   },
   "file_extension": ".py",
   "mimetype": "text/x-python",
   "name": "python",
   "nbconvert_exporter": "python",
   "pygments_lexer": "ipython3",
   "version": "3.13.5"
  }
 },
 "nbformat": 4,
 "nbformat_minor": 5
}
