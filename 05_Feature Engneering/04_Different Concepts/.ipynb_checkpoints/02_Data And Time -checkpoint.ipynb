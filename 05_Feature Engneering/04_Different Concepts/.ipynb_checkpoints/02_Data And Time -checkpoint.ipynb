{
 "cells": [
  {
   "cell_type": "code",
   "execution_count": 1,
   "id": "2c3c5d1e-0eae-422a-bed5-2bba6a348a68",
   "metadata": {},
   "outputs": [],
   "source": [
    "import pandas as pd\n",
    "import numpy as np"
   ]
  },
  {
   "cell_type": "code",
   "execution_count": 2,
   "id": "1ca954f5-d1ad-42a3-8b8c-5d73fff11adf",
   "metadata": {},
   "outputs": [],
   "source": [
    "date = pd.read_csv('34_1_orders.csv')\n",
    "time = pd.read_csv('34_2_messages.csv')"
   ]
  },
  {
   "cell_type": "code",
   "execution_count": null,
   "id": "4ef1befa-3692-4bda-8f30-de6370f203ca",
   "metadata": {},
   "outputs": [],
   "source": []
  },
  {
   "cell_type": "markdown",
   "id": "4177f1cc-9889-46e0-929a-d9e042d3541c",
   "metadata": {},
   "source": [
    "## Working with date:"
   ]
  },
  {
   "cell_type": "code",
   "execution_count": 3,
   "id": "73b7e1f2-b56f-4be6-8e1f-aef9ad5b0910",
   "metadata": {},
   "outputs": [
    {
     "data": {
      "text/html": [
       "<div>\n",
       "<style scoped>\n",
       "    .dataframe tbody tr th:only-of-type {\n",
       "        vertical-align: middle;\n",
       "    }\n",
       "\n",
       "    .dataframe tbody tr th {\n",
       "        vertical-align: top;\n",
       "    }\n",
       "\n",
       "    .dataframe thead th {\n",
       "        text-align: right;\n",
       "    }\n",
       "</style>\n",
       "<table border=\"1\" class=\"dataframe\">\n",
       "  <thead>\n",
       "    <tr style=\"text-align: right;\">\n",
       "      <th></th>\n",
       "      <th>date</th>\n",
       "      <th>product_id</th>\n",
       "      <th>city_id</th>\n",
       "      <th>orders</th>\n",
       "    </tr>\n",
       "  </thead>\n",
       "  <tbody>\n",
       "    <tr>\n",
       "      <th>0</th>\n",
       "      <td>2019-12-10</td>\n",
       "      <td>5628</td>\n",
       "      <td>25</td>\n",
       "      <td>3</td>\n",
       "    </tr>\n",
       "    <tr>\n",
       "      <th>1</th>\n",
       "      <td>2018-08-15</td>\n",
       "      <td>3646</td>\n",
       "      <td>14</td>\n",
       "      <td>157</td>\n",
       "    </tr>\n",
       "    <tr>\n",
       "      <th>2</th>\n",
       "      <td>2018-10-23</td>\n",
       "      <td>1859</td>\n",
       "      <td>25</td>\n",
       "      <td>1</td>\n",
       "    </tr>\n",
       "    <tr>\n",
       "      <th>3</th>\n",
       "      <td>2019-08-17</td>\n",
       "      <td>7292</td>\n",
       "      <td>25</td>\n",
       "      <td>1</td>\n",
       "    </tr>\n",
       "    <tr>\n",
       "      <th>4</th>\n",
       "      <td>2019-01-06</td>\n",
       "      <td>4344</td>\n",
       "      <td>25</td>\n",
       "      <td>3</td>\n",
       "    </tr>\n",
       "  </tbody>\n",
       "</table>\n",
       "</div>"
      ],
      "text/plain": [
       "         date  product_id  city_id  orders\n",
       "0  2019-12-10        5628       25       3\n",
       "1  2018-08-15        3646       14     157\n",
       "2  2018-10-23        1859       25       1\n",
       "3  2019-08-17        7292       25       1\n",
       "4  2019-01-06        4344       25       3"
      ]
     },
     "execution_count": 3,
     "metadata": {},
     "output_type": "execute_result"
    }
   ],
   "source": [
    "date.head()"
   ]
  },
  {
   "cell_type": "code",
   "execution_count": 4,
   "id": "b80cd7a8-c704-4501-98fe-690635c88a1c",
   "metadata": {},
   "outputs": [
    {
     "name": "stdout",
     "output_type": "stream",
     "text": [
      "<class 'pandas.core.frame.DataFrame'>\n",
      "RangeIndex: 1000 entries, 0 to 999\n",
      "Data columns (total 4 columns):\n",
      " #   Column      Non-Null Count  Dtype \n",
      "---  ------      --------------  ----- \n",
      " 0   date        1000 non-null   object\n",
      " 1   product_id  1000 non-null   int64 \n",
      " 2   city_id     1000 non-null   int64 \n",
      " 3   orders      1000 non-null   int64 \n",
      "dtypes: int64(3), object(1)\n",
      "memory usage: 31.4+ KB\n"
     ]
    }
   ],
   "source": [
    "date.info()"
   ]
  },
  {
   "cell_type": "code",
   "execution_count": 5,
   "id": "2dacb7e1-21ef-41e5-8d78-9795c62d657b",
   "metadata": {},
   "outputs": [],
   "source": [
    "date['date'] = pd.to_datetime(date['date'])"
   ]
  },
  {
   "cell_type": "code",
   "execution_count": 6,
   "id": "8eaf45d6-38f3-4824-a629-fb4b4fa4f9cd",
   "metadata": {},
   "outputs": [
    {
     "name": "stdout",
     "output_type": "stream",
     "text": [
      "<class 'pandas.core.frame.DataFrame'>\n",
      "RangeIndex: 1000 entries, 0 to 999\n",
      "Data columns (total 4 columns):\n",
      " #   Column      Non-Null Count  Dtype         \n",
      "---  ------      --------------  -----         \n",
      " 0   date        1000 non-null   datetime64[ns]\n",
      " 1   product_id  1000 non-null   int64         \n",
      " 2   city_id     1000 non-null   int64         \n",
      " 3   orders      1000 non-null   int64         \n",
      "dtypes: datetime64[ns](1), int64(3)\n",
      "memory usage: 31.4 KB\n"
     ]
    }
   ],
   "source": [
    "date.info()"
   ]
  },
  {
   "cell_type": "code",
   "execution_count": 7,
   "id": "00aae81b-ace3-40e4-b656-9ab6da6a5d85",
   "metadata": {},
   "outputs": [],
   "source": [
    "# extract Year\n",
    "date['year'] = date['date'].dt.year"
   ]
  },
  {
   "cell_type": "code",
   "execution_count": 8,
   "id": "5c345a5c-4513-4a50-adf7-2675c6baa005",
   "metadata": {},
   "outputs": [
    {
     "data": {
      "text/plain": [
       "0      2019\n",
       "1      2018\n",
       "2      2018\n",
       "3      2019\n",
       "4      2019\n",
       "       ... \n",
       "995    2018\n",
       "996    2018\n",
       "997    2019\n",
       "998    2019\n",
       "999    2019\n",
       "Name: year, Length: 1000, dtype: int32"
      ]
     },
     "execution_count": 8,
     "metadata": {},
     "output_type": "execute_result"
    }
   ],
   "source": [
    "date['year']"
   ]
  },
  {
   "cell_type": "code",
   "execution_count": null,
   "id": "e7385f28-b2b3-4ebd-adf6-89a67e555c68",
   "metadata": {},
   "outputs": [],
   "source": []
  },
  {
   "cell_type": "code",
   "execution_count": 9,
   "id": "d0b0b074-6363-459e-9e71-dbcf5b23a364",
   "metadata": {},
   "outputs": [],
   "source": [
    "# extract Month\n",
    "date['month'] = date['date'].dt.month"
   ]
  },
  {
   "cell_type": "code",
   "execution_count": 10,
   "id": "b1132180-6582-4de8-bc2e-d1ed91f92b13",
   "metadata": {},
   "outputs": [
    {
     "data": {
      "text/plain": [
       "0      12\n",
       "1       8\n",
       "2      10\n",
       "3       8\n",
       "4       1\n",
       "       ..\n",
       "995    10\n",
       "996    12\n",
       "997     5\n",
       "998     3\n",
       "999    10\n",
       "Name: month, Length: 1000, dtype: int32"
      ]
     },
     "execution_count": 10,
     "metadata": {},
     "output_type": "execute_result"
    }
   ],
   "source": [
    "date['month']"
   ]
  },
  {
   "cell_type": "code",
   "execution_count": null,
   "id": "28d15665-5485-4145-9946-fa99c6f30ca8",
   "metadata": {},
   "outputs": [],
   "source": []
  },
  {
   "cell_type": "code",
   "execution_count": 11,
   "id": "8598a8b7-738a-4f08-9f45-c319c10ea242",
   "metadata": {},
   "outputs": [],
   "source": [
    "#month name\n",
    "date['month_name'] = date['date'].dt.month_name()"
   ]
  },
  {
   "cell_type": "code",
   "execution_count": 12,
   "id": "162e8ee8-f541-467c-984e-8ce7417655fa",
   "metadata": {},
   "outputs": [
    {
     "data": {
      "text/plain": [
       "0      December\n",
       "1        August\n",
       "2       October\n",
       "3        August\n",
       "4       January\n",
       "         ...   \n",
       "995     October\n",
       "996    December\n",
       "997         May\n",
       "998       March\n",
       "999     October\n",
       "Name: month_name, Length: 1000, dtype: object"
      ]
     },
     "execution_count": 12,
     "metadata": {},
     "output_type": "execute_result"
    }
   ],
   "source": [
    "date['month_name'] "
   ]
  },
  {
   "cell_type": "code",
   "execution_count": null,
   "id": "14565139-cd4a-4390-bfba-216b22c7e6c0",
   "metadata": {},
   "outputs": [],
   "source": []
  },
  {
   "cell_type": "code",
   "execution_count": 13,
   "id": "21f3895f-d521-452a-9b1c-87e5d8cd0a39",
   "metadata": {},
   "outputs": [],
   "source": [
    "# Day of week\n",
    "date['day_of_week'] = date['date'].dt.dayofweek"
   ]
  },
  {
   "cell_type": "code",
   "execution_count": 14,
   "id": "62805876-da4b-4598-9a87-3ef5723e263b",
   "metadata": {},
   "outputs": [
    {
     "data": {
      "text/plain": [
       "0      1\n",
       "1      2\n",
       "2      1\n",
       "3      5\n",
       "4      6\n",
       "      ..\n",
       "995    0\n",
       "996    3\n",
       "997    1\n",
       "998    6\n",
       "999    1\n",
       "Name: day_of_week, Length: 1000, dtype: int32"
      ]
     },
     "execution_count": 14,
     "metadata": {},
     "output_type": "execute_result"
    }
   ],
   "source": [
    "date['day_of_week']"
   ]
  },
  {
   "cell_type": "code",
   "execution_count": null,
   "id": "4b1a0638-be8c-46ea-bec2-6f831d67533c",
   "metadata": {},
   "outputs": [],
   "source": []
  },
  {
   "cell_type": "code",
   "execution_count": 17,
   "id": "14b020cb-13f1-49b0-b7b0-810153c21f37",
   "metadata": {},
   "outputs": [
    {
     "data": {
      "text/plain": [
       "0        Tuesday\n",
       "1      Wednesday\n",
       "2        Tuesday\n",
       "3       Saturday\n",
       "4         Sunday\n",
       "         ...    \n",
       "995       Monday\n",
       "996     Thursday\n",
       "997      Tuesday\n",
       "998       Sunday\n",
       "999      Tuesday\n",
       "Name: date_dow_name, Length: 1000, dtype: object"
      ]
     },
     "execution_count": 17,
     "metadata": {},
     "output_type": "execute_result"
    }
   ],
   "source": [
    "# day of week - name\n",
    "\n",
    "date['date_dow_name'] = date['date'].dt.day_name()\n",
    "date['date_dow_name']"
   ]
  },
  {
   "cell_type": "code",
   "execution_count": null,
   "id": "c4cd2ec3-bd6f-4b30-8e37-5b9be1d428f3",
   "metadata": {},
   "outputs": [],
   "source": []
  },
  {
   "cell_type": "code",
   "execution_count": 19,
   "id": "a494be58-a558-498d-b34d-b77469c5f603",
   "metadata": {},
   "outputs": [
    {
     "data": {
      "text/plain": [
       "0       No\n",
       "1       No\n",
       "2       No\n",
       "3      Yes\n",
       "4      Yes\n",
       "      ... \n",
       "995     No\n",
       "996     No\n",
       "997     No\n",
       "998    Yes\n",
       "999     No\n",
       "Name: date_is_weekend, Length: 1000, dtype: object"
      ]
     },
     "execution_count": 19,
     "metadata": {},
     "output_type": "execute_result"
    }
   ],
   "source": [
    "# is weekend?\n",
    "date['date_is_weekend'] = np.where(date['date_dow_name'].isin(['Sunday', 'Saturday']), 'Yes','No')\n",
    "date['date_is_weekend']"
   ]
  },
  {
   "cell_type": "code",
   "execution_count": null,
   "id": "421cba55-6662-4c3a-a119-992c9619c66b",
   "metadata": {},
   "outputs": [],
   "source": []
  },
  {
   "cell_type": "code",
   "execution_count": 22,
   "id": "2b73484e-a1df-46ad-a7c9-b06f17a71dc4",
   "metadata": {},
   "outputs": [
    {
     "data": {
      "text/plain": [
       "0      50\n",
       "1      33\n",
       "2      43\n",
       "3      33\n",
       "4       1\n",
       "       ..\n",
       "995    41\n",
       "996    49\n",
       "997    19\n",
       "998     9\n",
       "999    42\n",
       "Name: date_week, Length: 1000, dtype: UInt32"
      ]
     },
     "execution_count": 22,
     "metadata": {},
     "output_type": "execute_result"
    }
   ],
   "source": [
    "# week of the year\n",
    "date['date_week'] = date['date'].dt.isocalendar().week\n",
    "date['date_week']"
   ]
  },
  {
   "cell_type": "code",
   "execution_count": null,
   "id": "f9ec394c-9c33-4a37-a33e-041e4e28ff67",
   "metadata": {},
   "outputs": [],
   "source": []
  },
  {
   "cell_type": "code",
   "execution_count": 25,
   "id": "6e0d32fa-3e02-4c1d-a481-1072d4586684",
   "metadata": {},
   "outputs": [
    {
     "data": {
      "text/plain": [
       "0      4\n",
       "1      3\n",
       "2      4\n",
       "3      3\n",
       "4      1\n",
       "      ..\n",
       "995    4\n",
       "996    4\n",
       "997    2\n",
       "998    1\n",
       "999    4\n",
       "Name: quarter, Length: 1000, dtype: int32"
      ]
     },
     "execution_count": 25,
     "metadata": {},
     "output_type": "execute_result"
    }
   ],
   "source": [
    "# Quarter \n",
    "date['quarter'] = date['date'].dt.quarter\n",
    "date['quarter']"
   ]
  },
  {
   "cell_type": "code",
   "execution_count": null,
   "id": "c11aeb60-b45d-4d07-921b-796bd2ee91c6",
   "metadata": {},
   "outputs": [],
   "source": []
  },
  {
   "cell_type": "code",
   "execution_count": 26,
   "id": "b2f9f539-ea64-40ef-adb9-34e79487781a",
   "metadata": {},
   "outputs": [
    {
     "data": {
      "text/plain": [
       "0      2\n",
       "1      2\n",
       "2      2\n",
       "3      2\n",
       "4      1\n",
       "      ..\n",
       "995    2\n",
       "996    2\n",
       "997    1\n",
       "998    1\n",
       "999    2\n",
       "Name: semester, Length: 1000, dtype: int64"
      ]
     },
     "execution_count": 26,
     "metadata": {},
     "output_type": "execute_result"
    }
   ],
   "source": [
    "date['semester'] = np.where(date['quarter'].isin([1,2]), 1, 2)\n",
    "date['semester']"
   ]
  },
  {
   "cell_type": "code",
   "execution_count": 27,
   "id": "a81d5034-307b-4fb0-8d75-c10905e65b9a",
   "metadata": {},
   "outputs": [
    {
     "data": {
      "text/plain": [
       "semester\n",
       "2    689\n",
       "1    311\n",
       "Name: count, dtype: int64"
      ]
     },
     "execution_count": 27,
     "metadata": {},
     "output_type": "execute_result"
    }
   ],
   "source": [
    "date['semester'].value_counts()"
   ]
  },
  {
   "cell_type": "code",
   "execution_count": null,
   "id": "ef57dc57-e7f1-4528-b2e6-40f62c4e385a",
   "metadata": {},
   "outputs": [],
   "source": []
  },
  {
   "cell_type": "code",
   "execution_count": 28,
   "id": "ceedeafb-34ee-4840-a763-07e21fdcedf8",
   "metadata": {},
   "outputs": [],
   "source": [
    "# Extract Time elapsed between date"
   ]
  },
  {
   "cell_type": "code",
   "execution_count": 30,
   "id": "48c32e69-a3ef-4fa4-9991-83d5262dc4c6",
   "metadata": {},
   "outputs": [
    {
     "data": {
      "text/plain": [
       "datetime.datetime(2025, 10, 2, 21, 19, 40, 855145)"
      ]
     },
     "execution_count": 30,
     "metadata": {},
     "output_type": "execute_result"
    }
   ],
   "source": [
    "import datetime\n",
    "\n",
    "today = datetime.datetime.today()\n",
    "\n",
    "today"
   ]
  },
  {
   "cell_type": "code",
   "execution_count": 31,
   "id": "80453ea3-a247-4f71-90f8-3e32eeec127c",
   "metadata": {},
   "outputs": [
    {
     "data": {
      "text/plain": [
       "0     2123 days 21:19:40.855145\n",
       "1     2605 days 21:19:40.855145\n",
       "2     2536 days 21:19:40.855145\n",
       "3     2238 days 21:19:40.855145\n",
       "4     2461 days 21:19:40.855145\n",
       "                 ...           \n",
       "995   2551 days 21:19:40.855145\n",
       "996   2492 days 21:19:40.855145\n",
       "997   2340 days 21:19:40.855145\n",
       "998   2405 days 21:19:40.855145\n",
       "999   2179 days 21:19:40.855145\n",
       "Name: date, Length: 1000, dtype: timedelta64[ns]"
      ]
     },
     "execution_count": 31,
     "metadata": {},
     "output_type": "execute_result"
    }
   ],
   "source": [
    "today - date['date']"
   ]
  },
  {
   "cell_type": "code",
   "execution_count": null,
   "id": "40409e64-44ba-4a7f-86df-b4866745f6e4",
   "metadata": {},
   "outputs": [],
   "source": []
  },
  {
   "cell_type": "code",
   "execution_count": 32,
   "id": "c766e451-a2a0-4925-a8c3-cadaa13fc767",
   "metadata": {},
   "outputs": [
    {
     "data": {
      "text/plain": [
       "0      2123\n",
       "1      2605\n",
       "2      2536\n",
       "3      2238\n",
       "4      2461\n",
       "       ... \n",
       "995    2551\n",
       "996    2492\n",
       "997    2340\n",
       "998    2405\n",
       "999    2179\n",
       "Name: date, Length: 1000, dtype: int64"
      ]
     },
     "execution_count": 32,
     "metadata": {},
     "output_type": "execute_result"
    }
   ],
   "source": [
    "# only days\n",
    "(today - date['date']).dt.days"
   ]
  },
  {
   "cell_type": "code",
   "execution_count": null,
   "id": "205306ff-e2b2-4da7-835a-8fccf656b86b",
   "metadata": {},
   "outputs": [],
   "source": []
  },
  {
   "cell_type": "code",
   "execution_count": 48,
   "id": "6666ec16-bfae-421a-824e-b883b3e95959",
   "metadata": {},
   "outputs": [],
   "source": [
    "#Months passed\n",
    "\n",
    "import pandas as pd\n",
    "from datetime import datetime\n",
    "\n",
    "today = pd.Timestamp(datetime.today())  # ✅ Convert datetime → pandas Timestamp\n",
    "\n",
    "months_passed = (today.to_period('M') - date['date'].dt.to_period('M')).apply(lambda x: x.n)\n"
   ]
  },
  {
   "cell_type": "code",
   "execution_count": 49,
   "id": "d9e046da-89c0-4ac9-8524-5b3de4908a32",
   "metadata": {},
   "outputs": [
    {
     "data": {
      "text/plain": [
       "0      70\n",
       "1      86\n",
       "2      84\n",
       "3      74\n",
       "4      81\n",
       "       ..\n",
       "995    84\n",
       "996    82\n",
       "997    77\n",
       "998    79\n",
       "999    72\n",
       "Name: date, Length: 1000, dtype: int64"
      ]
     },
     "execution_count": 49,
     "metadata": {},
     "output_type": "execute_result"
    }
   ],
   "source": [
    "months_passed"
   ]
  },
  {
   "cell_type": "markdown",
   "id": "5b5e55a9-8cfd-43fd-b0a0-9669004c9258",
   "metadata": {},
   "source": [
    "## working with time"
   ]
  },
  {
   "cell_type": "code",
   "execution_count": null,
   "id": "9b9302bf-fc7b-4e15-8960-a2574b32fd46",
   "metadata": {},
   "outputs": [],
   "source": []
  },
  {
   "cell_type": "code",
   "execution_count": 35,
   "id": "4f1c73e9-12cf-4eea-8698-496c8c91362e",
   "metadata": {},
   "outputs": [
    {
     "name": "stdout",
     "output_type": "stream",
     "text": [
      "<class 'pandas.core.frame.DataFrame'>\n",
      "RangeIndex: 1000 entries, 0 to 999\n",
      "Data columns (total 2 columns):\n",
      " #   Column  Non-Null Count  Dtype \n",
      "---  ------  --------------  ----- \n",
      " 0   date    1000 non-null   object\n",
      " 1   msg     1000 non-null   object\n",
      "dtypes: object(2)\n",
      "memory usage: 15.8+ KB\n"
     ]
    }
   ],
   "source": [
    "time.info()"
   ]
  },
  {
   "cell_type": "code",
   "execution_count": 36,
   "id": "f00ad1e2-640b-4933-80a2-3e6c6e68942c",
   "metadata": {},
   "outputs": [],
   "source": [
    "time['date'] = pd.to_datetime(time['date'])"
   ]
  },
  {
   "cell_type": "code",
   "execution_count": 38,
   "id": "fd8c9b5e-87d8-4433-b330-edba732a260d",
   "metadata": {},
   "outputs": [
    {
     "name": "stdout",
     "output_type": "stream",
     "text": [
      "<class 'pandas.core.frame.DataFrame'>\n",
      "RangeIndex: 1000 entries, 0 to 999\n",
      "Data columns (total 2 columns):\n",
      " #   Column  Non-Null Count  Dtype         \n",
      "---  ------  --------------  -----         \n",
      " 0   date    1000 non-null   datetime64[ns]\n",
      " 1   msg     1000 non-null   object        \n",
      "dtypes: datetime64[ns](1), object(1)\n",
      "memory usage: 15.8+ KB\n"
     ]
    }
   ],
   "source": [
    "time.info()"
   ]
  },
  {
   "cell_type": "code",
   "execution_count": null,
   "id": "da5c4cab-941f-4b79-a3c9-32c183d8d555",
   "metadata": {},
   "outputs": [],
   "source": []
  },
  {
   "cell_type": "code",
   "execution_count": 42,
   "id": "5d1e9b6f-4e4f-4309-a3bb-793f434e326d",
   "metadata": {},
   "outputs": [
    {
     "data": {
      "text/html": [
       "<div>\n",
       "<style scoped>\n",
       "    .dataframe tbody tr th:only-of-type {\n",
       "        vertical-align: middle;\n",
       "    }\n",
       "\n",
       "    .dataframe tbody tr th {\n",
       "        vertical-align: top;\n",
       "    }\n",
       "\n",
       "    .dataframe thead th {\n",
       "        text-align: right;\n",
       "    }\n",
       "</style>\n",
       "<table border=\"1\" class=\"dataframe\">\n",
       "  <thead>\n",
       "    <tr style=\"text-align: right;\">\n",
       "      <th></th>\n",
       "      <th>date</th>\n",
       "      <th>msg</th>\n",
       "      <th>hour</th>\n",
       "      <th>min</th>\n",
       "      <th>sec</th>\n",
       "      <th>time</th>\n",
       "    </tr>\n",
       "  </thead>\n",
       "  <tbody>\n",
       "    <tr>\n",
       "      <th>0</th>\n",
       "      <td>2013-12-15 00:50:00</td>\n",
       "      <td>ищу на сегодня мужика 37</td>\n",
       "      <td>0</td>\n",
       "      <td>50</td>\n",
       "      <td>0</td>\n",
       "      <td>00:50:00</td>\n",
       "    </tr>\n",
       "    <tr>\n",
       "      <th>1</th>\n",
       "      <td>2014-04-29 23:40:00</td>\n",
       "      <td>ПАРЕНЬ БИ ИЩЕТ ДРУГА СЕЙЧАС!! СМС ММС 0955532826</td>\n",
       "      <td>23</td>\n",
       "      <td>40</td>\n",
       "      <td>0</td>\n",
       "      <td>23:40:00</td>\n",
       "    </tr>\n",
       "    <tr>\n",
       "      <th>2</th>\n",
       "      <td>2012-12-30 00:21:00</td>\n",
       "      <td>Днепр.м 43 позн.с д/ж *.о  067.16.34.576</td>\n",
       "      <td>0</td>\n",
       "      <td>21</td>\n",
       "      <td>0</td>\n",
       "      <td>00:21:00</td>\n",
       "    </tr>\n",
       "    <tr>\n",
       "      <th>3</th>\n",
       "      <td>2014-11-28 00:31:00</td>\n",
       "      <td>КИЕВ ИЩУ Д/Ж ДО 45 МНЕ СЕЙЧАС СКУЧНО 093 629 9...</td>\n",
       "      <td>0</td>\n",
       "      <td>31</td>\n",
       "      <td>0</td>\n",
       "      <td>00:31:00</td>\n",
       "    </tr>\n",
       "    <tr>\n",
       "      <th>4</th>\n",
       "      <td>2013-10-26 23:11:00</td>\n",
       "      <td>Зая я тебя никогда не обижу  люблю тебя!)  Даше</td>\n",
       "      <td>23</td>\n",
       "      <td>11</td>\n",
       "      <td>0</td>\n",
       "      <td>23:11:00</td>\n",
       "    </tr>\n",
       "  </tbody>\n",
       "</table>\n",
       "</div>"
      ],
      "text/plain": [
       "                 date                                                msg  \\\n",
       "0 2013-12-15 00:50:00                           ищу на сегодня мужика 37   \n",
       "1 2014-04-29 23:40:00   ПАРЕНЬ БИ ИЩЕТ ДРУГА СЕЙЧАС!! СМС ММС 0955532826   \n",
       "2 2012-12-30 00:21:00           Днепр.м 43 позн.с д/ж *.о  067.16.34.576   \n",
       "3 2014-11-28 00:31:00  КИЕВ ИЩУ Д/Ж ДО 45 МНЕ СЕЙЧАС СКУЧНО 093 629 9...   \n",
       "4 2013-10-26 23:11:00    Зая я тебя никогда не обижу  люблю тебя!)  Даше   \n",
       "\n",
       "   hour  min  sec      time  \n",
       "0     0   50    0  00:50:00  \n",
       "1    23   40    0  23:40:00  \n",
       "2     0   21    0  00:21:00  \n",
       "3     0   31    0  00:31:00  \n",
       "4    23   11    0  23:11:00  "
      ]
     },
     "execution_count": 42,
     "metadata": {},
     "output_type": "execute_result"
    }
   ],
   "source": [
    "# extract hour,minute,second\n",
    "time['hour'] = time['date'].dt.hour\n",
    "time['min'] = time['date'].dt.minute\n",
    "time['sec'] = time['date'].dt.second\n",
    "\n",
    "time.head()"
   ]
  },
  {
   "cell_type": "code",
   "execution_count": null,
   "id": "0ef06cd8-2b56-43ae-ad8b-ea8bcac59311",
   "metadata": {},
   "outputs": [],
   "source": []
  },
  {
   "cell_type": "code",
   "execution_count": 43,
   "id": "d7e06284-4c0a-4526-98e3-39312aa06791",
   "metadata": {},
   "outputs": [
    {
     "data": {
      "text/plain": [
       "0      00:50:00\n",
       "1      23:40:00\n",
       "2      00:21:00\n",
       "3      00:31:00\n",
       "4      23:11:00\n",
       "         ...   \n",
       "995    00:50:00\n",
       "996    23:14:00\n",
       "997    23:37:00\n",
       "998    23:34:00\n",
       "999    23:25:00\n",
       "Name: time, Length: 1000, dtype: object"
      ]
     },
     "execution_count": 43,
     "metadata": {},
     "output_type": "execute_result"
    }
   ],
   "source": [
    "# extract time\n",
    "time['time'] = time['date'].dt.time\n",
    "time['time']"
   ]
  },
  {
   "cell_type": "code",
   "execution_count": null,
   "id": "440baef1-86e4-4fd8-ba9d-4beac72baa71",
   "metadata": {},
   "outputs": [],
   "source": []
  },
  {
   "cell_type": "code",
   "execution_count": 44,
   "id": "55b499b8-2721-451f-8d4a-746ef4e347f2",
   "metadata": {},
   "outputs": [
    {
     "data": {
      "text/plain": [
       "0     4309 days 20:29:40.855145\n",
       "1     4173 days 21:39:40.855145\n",
       "2     4659 days 20:58:40.855145\n",
       "3     3961 days 20:48:40.855145\n",
       "4     4358 days 22:08:40.855145\n",
       "                 ...           \n",
       "995   4948 days 20:29:40.855145\n",
       "996   4269 days 22:05:40.855145\n",
       "997   4734 days 21:42:40.855145\n",
       "998   4850 days 21:45:40.855145\n",
       "999   4122 days 21:54:40.855145\n",
       "Name: date, Length: 1000, dtype: timedelta64[ns]"
      ]
     },
     "execution_count": 44,
     "metadata": {},
     "output_type": "execute_result"
    }
   ],
   "source": [
    "# time difference\n",
    "today - time['date']"
   ]
  },
  {
   "cell_type": "code",
   "execution_count": null,
   "id": "fd3dc3b2-66e7-49e3-8f9d-64e3575b1e15",
   "metadata": {},
   "outputs": [],
   "source": []
  },
  {
   "cell_type": "code",
   "execution_count": 45,
   "id": "24b063c5-ad5b-4c4e-8386-9d9c6f0efea4",
   "metadata": {},
   "outputs": [
    {
     "data": {
      "text/plain": [
       "0      3.723714e+08\n",
       "1      3.606252e+08\n",
       "2      4.026131e+08\n",
       "3      3.423053e+08\n",
       "4      3.766109e+08\n",
       "           ...     \n",
       "995    4.275810e+08\n",
       "996    3.689211e+08\n",
       "997    4.090958e+08\n",
       "998    4.191183e+08\n",
       "999    3.562197e+08\n",
       "Name: date, Length: 1000, dtype: float64"
      ]
     },
     "execution_count": 45,
     "metadata": {},
     "output_type": "execute_result"
    }
   ],
   "source": [
    "# in seconds\n",
    "(today - time['date'])/np.timedelta64(1,'s')"
   ]
  },
  {
   "cell_type": "code",
   "execution_count": null,
   "id": "706a4411-61c0-48a6-9284-526be2e1f96f",
   "metadata": {},
   "outputs": [],
   "source": []
  },
  {
   "cell_type": "code",
   "execution_count": 46,
   "id": "78f0af26-76b5-4fcb-a668-90e8d6651158",
   "metadata": {},
   "outputs": [
    {
     "data": {
      "text/plain": [
       "0      6.206190e+06\n",
       "1      6.010420e+06\n",
       "2      6.710219e+06\n",
       "3      5.705089e+06\n",
       "4      6.276849e+06\n",
       "           ...     \n",
       "995    7.126350e+06\n",
       "996    6.148686e+06\n",
       "997    6.818263e+06\n",
       "998    6.985306e+06\n",
       "999    5.936995e+06\n",
       "Name: date, Length: 1000, dtype: float64"
      ]
     },
     "execution_count": 46,
     "metadata": {},
     "output_type": "execute_result"
    }
   ],
   "source": [
    "# in minutes\n",
    "\n",
    "(today - time['date'])/np.timedelta64(1,'m')"
   ]
  },
  {
   "cell_type": "code",
   "execution_count": null,
   "id": "fe152c06-b9e4-4276-be3a-7ca2f17b0be9",
   "metadata": {},
   "outputs": [],
   "source": []
  },
  {
   "cell_type": "code",
   "execution_count": 47,
   "id": "8d8572b5-dd5e-4204-ba71-d0b6c3e2ea7b",
   "metadata": {},
   "outputs": [
    {
     "data": {
      "text/plain": [
       "0      103436.494682\n",
       "1      100173.661349\n",
       "2      111836.978015\n",
       "3       95084.811349\n",
       "4      104614.144682\n",
       "           ...      \n",
       "995    118772.494682\n",
       "996    102478.094682\n",
       "997    113637.711349\n",
       "998    116421.761349\n",
       "999     98949.911349\n",
       "Name: date, Length: 1000, dtype: float64"
      ]
     },
     "execution_count": 47,
     "metadata": {},
     "output_type": "execute_result"
    }
   ],
   "source": [
    "# in hours\n",
    "\n",
    "(today - time['date'])/np.timedelta64(1,'h')"
   ]
  },
  {
   "cell_type": "code",
   "execution_count": null,
   "id": "0727b1f6-17e0-4839-a37d-a2213b0e48ad",
   "metadata": {},
   "outputs": [],
   "source": []
  },
  {
   "cell_type": "code",
   "execution_count": null,
   "id": "f622dad7-3341-497a-b906-7f6141c1f7ce",
   "metadata": {},
   "outputs": [],
   "source": []
  },
  {
   "cell_type": "code",
   "execution_count": null,
   "id": "36adaaea-8072-4dbe-bb1e-bb9092385723",
   "metadata": {},
   "outputs": [],
   "source": []
  },
  {
   "cell_type": "code",
   "execution_count": null,
   "id": "e4ec4418-c5e4-4998-adc5-623a19ee02df",
   "metadata": {},
   "outputs": [],
   "source": []
  },
  {
   "cell_type": "code",
   "execution_count": null,
   "id": "02ead6ff-dfc1-4755-8c51-c8d35e8e92e2",
   "metadata": {},
   "outputs": [],
   "source": []
  },
  {
   "cell_type": "code",
   "execution_count": null,
   "id": "dd678fbb-2dad-42ac-ba70-6e0422ef3a27",
   "metadata": {},
   "outputs": [],
   "source": []
  },
  {
   "cell_type": "code",
   "execution_count": null,
   "id": "49e1421e-1b42-4bbd-9b20-35c7195bd3bb",
   "metadata": {},
   "outputs": [],
   "source": []
  },
  {
   "cell_type": "code",
   "execution_count": null,
   "id": "6424e628-26ea-4b99-b5a7-0a85e27e297b",
   "metadata": {},
   "outputs": [],
   "source": []
  }
 ],
 "metadata": {
  "kernelspec": {
   "display_name": "Python 3 (ipykernel)",
   "language": "python",
   "name": "python3"
  },
  "language_info": {
   "codemirror_mode": {
    "name": "ipython",
    "version": 3
   },
   "file_extension": ".py",
   "mimetype": "text/x-python",
   "name": "python",
   "nbconvert_exporter": "python",
   "pygments_lexer": "ipython3",
   "version": "3.13.5"
  }
 },
 "nbformat": 4,
 "nbformat_minor": 5
}
