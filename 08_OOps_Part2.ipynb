{
  "cells": [
    {
      "cell_type": "markdown",
      "metadata": {
        "id": "view-in-github",
        "colab_type": "text"
      },
      "source": [
        "<a href=\"https://colab.research.google.com/github/Precipitation-Rain/Machine-Learning/blob/main/08_OOps_Part2.ipynb\" target=\"_parent\"><img src=\"https://colab.research.google.com/assets/colab-badge.svg\" alt=\"Open In Colab\"/></a>"
      ]
    },
    {
      "cell_type": "markdown",
      "id": "b398d54a-73c0-43b5-a386-730cf974f4a7",
      "metadata": {
        "id": "b398d54a-73c0-43b5-a386-730cf974f4a7"
      },
      "source": [
        "## Revision Of Last Class"
      ]
    },
    {
      "cell_type": "code",
      "execution_count": null,
      "id": "d701c335-d67e-40e1-90db-a5833c9949c4",
      "metadata": {
        "id": "d701c335-d67e-40e1-90db-a5833c9949c4"
      },
      "outputs": [],
      "source": [
        "class Point:\n",
        "    def __init__(self,x,y):\n",
        "        self.x_cod = x\n",
        "        self.y_cod = y\n",
        "\n",
        "    def __str__(self):\n",
        "        return '<{},{}>'.format(self.x_cod,self.y_cod)\n",
        "\n",
        "    def euclidian_distance(self,other):\n",
        "        return ((self.x_cod - other.x_cod)**2  +  ((self.y_cod - other.y_cod)**2))**0.5\n",
        "\n",
        "    def distance_from_origin(self):\n",
        "        return self.euclidian_distance(Point(0,0))\n",
        "\n",
        "class Line:\n",
        "    def __init__(self,A,B,C):\n",
        "        self.A = A\n",
        "        self.B = B\n",
        "        self.C = C\n",
        "\n",
        "    def __str__(self):\n",
        "        return '{}x + {}y + {}'.format(self.A,self.B,self.C)\n",
        "\n",
        "    def lies_on_line(line,point):\n",
        "        if line.A*point.x_cod + line.B*point.y_cod + line.C == 0:\n",
        "            return 'Lies on the line'\n",
        "\n",
        "        else:\n",
        "            return \"Don't lies on the line\"\n",
        "\n",
        "\n",
        "    def dist_btw_pt_line(line,point):\n",
        "        return abs(line.A*point.x_cod + line.B*point.y_cod + line.C)/(line.A**2 + line.B**2)\n",
        ""
      ]
    },
    {
      "cell_type": "code",
      "execution_count": null,
      "id": "c99e3a56-40bc-43cc-99b3-19c8115fee71",
      "metadata": {
        "id": "c99e3a56-40bc-43cc-99b3-19c8115fee71"
      },
      "outputs": [],
      "source": [
        "#Create and view 2d coordinate"
      ]
    },
    {
      "cell_type": "code",
      "execution_count": null,
      "id": "0c455c56-e103-4343-b0ea-a24391b18ff6",
      "metadata": {
        "id": "0c455c56-e103-4343-b0ea-a24391b18ff6",
        "outputId": "4b467908-f4fb-4f7a-a38a-1b26c0bbbe1e"
      },
      "outputs": [
        {
          "name": "stdout",
          "output_type": "stream",
          "text": [
            "<10,0>\n"
          ]
        }
      ],
      "source": [
        "p1 = Point(10,0)\n",
        "#<2,3>\n",
        "print(p1)"
      ]
    },
    {
      "cell_type": "code",
      "execution_count": null,
      "id": "90952037-94df-4b3a-a690-f4c2e5d46bc6",
      "metadata": {
        "id": "90952037-94df-4b3a-a690-f4c2e5d46bc6",
        "outputId": "b5f85817-7844-4773-eac9-f645c26ae36b"
      },
      "outputs": [
        {
          "name": "stdout",
          "output_type": "stream",
          "text": [
            "<10,10>\n"
          ]
        }
      ],
      "source": [
        "p2 = Point(10,10)\n",
        "print(p2)"
      ]
    },
    {
      "cell_type": "code",
      "execution_count": null,
      "id": "3aa58ed0-b82b-4db2-b29c-8de61e075833",
      "metadata": {
        "id": "3aa58ed0-b82b-4db2-b29c-8de61e075833"
      },
      "outputs": [],
      "source": []
    },
    {
      "cell_type": "code",
      "execution_count": null,
      "id": "92ebd6fb-0e47-4234-9f87-df968714ec30",
      "metadata": {
        "id": "92ebd6fb-0e47-4234-9f87-df968714ec30"
      },
      "outputs": [],
      "source": [
        "#calculate distance between two points"
      ]
    },
    {
      "cell_type": "code",
      "execution_count": null,
      "id": "bbb79e92-0aa4-4e35-bf04-44bfa7ff7ed6",
      "metadata": {
        "id": "bbb79e92-0aa4-4e35-bf04-44bfa7ff7ed6",
        "outputId": "d01d97d8-4a9e-4f08-a420-2a15e7fdc7c0"
      },
      "outputs": [
        {
          "data": {
            "text/plain": [
              "10.0"
            ]
          },
          "execution_count": 6,
          "metadata": {},
          "output_type": "execute_result"
        }
      ],
      "source": [
        "p1.euclidian_distance(p2)"
      ]
    },
    {
      "cell_type": "code",
      "execution_count": null,
      "id": "4229b79a-2bf2-4456-b11a-c68b4e29dd7c",
      "metadata": {
        "id": "4229b79a-2bf2-4456-b11a-c68b4e29dd7c"
      },
      "outputs": [],
      "source": []
    },
    {
      "cell_type": "code",
      "execution_count": null,
      "id": "4acff708-1a99-4af5-a73c-db643a7baab2",
      "metadata": {
        "id": "4acff708-1a99-4af5-a73c-db643a7baab2"
      },
      "outputs": [],
      "source": [
        "#Calculate distance between point and origin"
      ]
    },
    {
      "cell_type": "code",
      "execution_count": null,
      "id": "faa1af8e-0522-41f2-b3ac-ad4602fae714",
      "metadata": {
        "id": "faa1af8e-0522-41f2-b3ac-ad4602fae714"
      },
      "outputs": [],
      "source": [
        "p3 = Point(0,0)"
      ]
    },
    {
      "cell_type": "code",
      "execution_count": null,
      "id": "5f6d3f38-aef2-4e69-a4ab-d583f49849ab",
      "metadata": {
        "id": "5f6d3f38-aef2-4e69-a4ab-d583f49849ab",
        "outputId": "8abce1fa-72bf-4aca-9070-cfa13b8b5531"
      },
      "outputs": [
        {
          "data": {
            "text/plain": [
              "0.0"
            ]
          },
          "execution_count": 9,
          "metadata": {},
          "output_type": "execute_result"
        }
      ],
      "source": [
        "p3.distance_from_origin()"
      ]
    },
    {
      "cell_type": "code",
      "execution_count": null,
      "id": "25f163dc-ebd8-45c6-95e3-c92cb5460266",
      "metadata": {
        "id": "25f163dc-ebd8-45c6-95e3-c92cb5460266"
      },
      "outputs": [],
      "source": []
    },
    {
      "cell_type": "code",
      "execution_count": null,
      "id": "c86144a5-d684-46f4-9285-d8aa956b4bdb",
      "metadata": {
        "id": "c86144a5-d684-46f4-9285-d8aa956b4bdb"
      },
      "outputs": [],
      "source": [
        "#Check point lies on line or not"
      ]
    },
    {
      "cell_type": "code",
      "execution_count": null,
      "id": "20e86e6d-3d9a-4602-9b92-e64f947c0ad2",
      "metadata": {
        "id": "20e86e6d-3d9a-4602-9b92-e64f947c0ad2"
      },
      "outputs": [],
      "source": [
        "l1 = Line(3,4,5)"
      ]
    },
    {
      "cell_type": "code",
      "execution_count": null,
      "id": "a54132c9-4f0f-4b3c-93eb-684b96367ed4",
      "metadata": {
        "id": "a54132c9-4f0f-4b3c-93eb-684b96367ed4",
        "outputId": "3c98aab7-f2bd-4b4d-e2c5-8e34b369a609"
      },
      "outputs": [
        {
          "name": "stdout",
          "output_type": "stream",
          "text": [
            "3x + 4y + 5\n"
          ]
        }
      ],
      "source": [
        "print(l1)\n",
        "#3x + 4y + 5"
      ]
    },
    {
      "cell_type": "code",
      "execution_count": null,
      "id": "452640d3-bfc6-41ff-9fc8-62a77410a988",
      "metadata": {
        "id": "452640d3-bfc6-41ff-9fc8-62a77410a988"
      },
      "outputs": [],
      "source": []
    },
    {
      "cell_type": "code",
      "execution_count": null,
      "id": "b93141c9-1dbb-4ba7-8414-79f795fc1d31",
      "metadata": {
        "id": "b93141c9-1dbb-4ba7-8414-79f795fc1d31"
      },
      "outputs": [],
      "source": [
        "#Lies on the line or not"
      ]
    },
    {
      "cell_type": "code",
      "execution_count": null,
      "id": "7381b19e-d88a-4335-9a1d-757c26bb5fd6",
      "metadata": {
        "id": "7381b19e-d88a-4335-9a1d-757c26bb5fd6",
        "outputId": "04d19fd0-a3cf-466a-bae4-a83716d82c4e"
      },
      "outputs": [
        {
          "name": "stdout",
          "output_type": "stream",
          "text": [
            "1x + 1y + -2\n",
            "<1,2>\n"
          ]
        }
      ],
      "source": [
        "l1 = Line(1,1,-2)\n",
        "p2 = Point(1,2)\n",
        "print(l1)\n",
        "print(p2)"
      ]
    },
    {
      "cell_type": "code",
      "execution_count": null,
      "id": "50f6a7a6-7ff6-4196-ac39-cb24cdf75102",
      "metadata": {
        "id": "50f6a7a6-7ff6-4196-ac39-cb24cdf75102",
        "outputId": "c2b8093b-49e0-43df-f363-9ca78455c9c9"
      },
      "outputs": [
        {
          "data": {
            "text/plain": [
              "\"Don't lies on the line\""
            ]
          },
          "execution_count": 15,
          "metadata": {},
          "output_type": "execute_result"
        }
      ],
      "source": [
        "l1.lies_on_line(p2)"
      ]
    },
    {
      "cell_type": "code",
      "execution_count": null,
      "id": "39095ccd-eba9-401f-9f3b-c6c85cdac3a6",
      "metadata": {
        "id": "39095ccd-eba9-401f-9f3b-c6c85cdac3a6"
      },
      "outputs": [],
      "source": []
    },
    {
      "cell_type": "code",
      "execution_count": null,
      "id": "2c11951d-ed4e-43b8-a4ef-0e0e6ab88c43",
      "metadata": {
        "id": "2c11951d-ed4e-43b8-a4ef-0e0e6ab88c43"
      },
      "outputs": [],
      "source": [
        "#* objName.methodName()\n",
        "#indirectly passsing that object in that method no neeed to explicitly send objects"
      ]
    },
    {
      "cell_type": "code",
      "execution_count": null,
      "id": "1675fe33-d478-4a94-badd-51eb106e4e7d",
      "metadata": {
        "id": "1675fe33-d478-4a94-badd-51eb106e4e7d"
      },
      "outputs": [],
      "source": [
        "#Shortest distance between line and point:"
      ]
    },
    {
      "cell_type": "code",
      "execution_count": null,
      "id": "70b21ec4-b1ce-4816-9a66-e670fafd170c",
      "metadata": {
        "id": "70b21ec4-b1ce-4816-9a66-e670fafd170c"
      },
      "outputs": [],
      "source": [
        "l= Line(1,1,-2)\n",
        "p=Point(1,2)"
      ]
    },
    {
      "cell_type": "code",
      "execution_count": null,
      "id": "4f19dd4b-fddd-48a9-a542-f51753072aaf",
      "metadata": {
        "id": "4f19dd4b-fddd-48a9-a542-f51753072aaf",
        "outputId": "7a45cf8a-77a0-4051-ddfb-39aba728b50b"
      },
      "outputs": [
        {
          "data": {
            "text/plain": [
              "0.5"
            ]
          },
          "execution_count": 19,
          "metadata": {},
          "output_type": "execute_result"
        }
      ],
      "source": [
        "l.dist_btw_pt_line(p)"
      ]
    },
    {
      "cell_type": "code",
      "execution_count": null,
      "id": "9f53e3bf-d17c-4484-92f0-de51155d0be6",
      "metadata": {
        "id": "9f53e3bf-d17c-4484-92f0-de51155d0be6"
      },
      "outputs": [],
      "source": []
    },
    {
      "cell_type": "code",
      "execution_count": null,
      "id": "5ecf24a3-7bee-4e2d-839e-94eb69e391a0",
      "metadata": {
        "id": "5ecf24a3-7bee-4e2d-839e-94eb69e391a0"
      },
      "outputs": [],
      "source": [
        "##HW] Two lines intersect or not"
      ]
    },
    {
      "cell_type": "code",
      "execution_count": null,
      "id": "76531c83-0fd3-41bf-aaa8-16ec17b9716d",
      "metadata": {
        "id": "76531c83-0fd3-41bf-aaa8-16ec17b9716d"
      },
      "outputs": [],
      "source": []
    },
    {
      "cell_type": "code",
      "execution_count": null,
      "id": "5fc7a18c-0d20-49b1-956b-48be1f2b778c",
      "metadata": {
        "id": "5fc7a18c-0d20-49b1-956b-48be1f2b778c"
      },
      "outputs": [],
      "source": []
    },
    {
      "cell_type": "markdown",
      "id": "7404548d-180f-46ef-8846-25bd632e8e65",
      "metadata": {
        "id": "7404548d-180f-46ef-8846-25bd632e8e65"
      },
      "source": [
        "## How attributes(data) and methods accesed by object"
      ]
    },
    {
      "cell_type": "code",
      "execution_count": null,
      "id": "c5fcd791-0279-4f6e-bfda-6819da50a3b9",
      "metadata": {
        "id": "c5fcd791-0279-4f6e-bfda-6819da50a3b9"
      },
      "outputs": [],
      "source": [
        "class Hotel:\n",
        "    def __init__(self,name,country):\n",
        "        self.name = name\n",
        "        self.country = country\n",
        "\n",
        "    def greet(self):\n",
        "        if self.country == 'india':\n",
        "            return 'namaste {}'.format(self.name)\n",
        "        else:\n",
        "            return 'welcome {}'.format(self.name)"
      ]
    },
    {
      "cell_type": "code",
      "execution_count": null,
      "id": "9d8bfb5e-7ecc-4265-9990-a5fed33c707c",
      "metadata": {
        "id": "9d8bfb5e-7ecc-4265-9990-a5fed33c707c"
      },
      "outputs": [],
      "source": [
        "h= Hotel('Raj','india')\n",
        "h1 = Hotel('David','australia')"
      ]
    },
    {
      "cell_type": "code",
      "execution_count": null,
      "id": "6d90916a-ab3f-429e-bddb-7352cdf786b3",
      "metadata": {
        "id": "6d90916a-ab3f-429e-bddb-7352cdf786b3"
      },
      "outputs": [],
      "source": [
        "# Calling Attribute"
      ]
    },
    {
      "cell_type": "code",
      "execution_count": null,
      "id": "87ae5fa7-7ef3-46ef-b1df-d8f85fbac452",
      "metadata": {
        "id": "87ae5fa7-7ef3-46ef-b1df-d8f85fbac452",
        "outputId": "2451ea2e-87f0-43bc-8195-3c173558212e"
      },
      "outputs": [
        {
          "data": {
            "text/plain": [
              "'Raj'"
            ]
          },
          "execution_count": 24,
          "metadata": {},
          "output_type": "execute_result"
        }
      ],
      "source": [
        "h.name"
      ]
    },
    {
      "cell_type": "code",
      "execution_count": null,
      "id": "8ae5259a-6068-4bbd-a216-1e457f923149",
      "metadata": {
        "id": "8ae5259a-6068-4bbd-a216-1e457f923149",
        "outputId": "5800d3cc-95ee-4ac7-ab74-74627a797fd1"
      },
      "outputs": [
        {
          "data": {
            "text/plain": [
              "'india'"
            ]
          },
          "execution_count": 25,
          "metadata": {},
          "output_type": "execute_result"
        }
      ],
      "source": [
        "h.country"
      ]
    },
    {
      "cell_type": "code",
      "execution_count": null,
      "id": "4c3e4da9-9728-45f1-afd6-0471af3fd111",
      "metadata": {
        "id": "4c3e4da9-9728-45f1-afd6-0471af3fd111"
      },
      "outputs": [],
      "source": [
        "#Calling method"
      ]
    },
    {
      "cell_type": "code",
      "execution_count": null,
      "id": "ed8623d9-99d7-46c8-860a-1ddd269e8f12",
      "metadata": {
        "id": "ed8623d9-99d7-46c8-860a-1ddd269e8f12",
        "outputId": "3e813b27-8205-4314-9e1f-f9154a63b692"
      },
      "outputs": [
        {
          "data": {
            "text/plain": [
              "'namaste Raj'"
            ]
          },
          "execution_count": 27,
          "metadata": {},
          "output_type": "execute_result"
        }
      ],
      "source": [
        "h.greet()"
      ]
    },
    {
      "cell_type": "code",
      "execution_count": null,
      "id": "8734af5d-b00b-40f5-b8db-70e5ec44e74c",
      "metadata": {
        "id": "8734af5d-b00b-40f5-b8db-70e5ec44e74c",
        "outputId": "d87b509f-bff5-4ac7-e1ee-9e8693a0f4d6"
      },
      "outputs": [
        {
          "data": {
            "text/plain": [
              "'welcome David'"
            ]
          },
          "execution_count": 28,
          "metadata": {},
          "output_type": "execute_result"
        }
      ],
      "source": [
        "h1.greet()"
      ]
    },
    {
      "cell_type": "code",
      "execution_count": null,
      "id": "4d5ad9c9-1087-4896-bbe3-af2b2952a4ed",
      "metadata": {
        "id": "4d5ad9c9-1087-4896-bbe3-af2b2952a4ed"
      },
      "outputs": [],
      "source": [
        "#creating attribute from outside of class"
      ]
    },
    {
      "cell_type": "code",
      "execution_count": null,
      "id": "afabac10-9d90-4b38-9f8f-4d948e9eadde",
      "metadata": {
        "id": "afabac10-9d90-4b38-9f8f-4d948e9eadde",
        "outputId": "6c05df3f-d5c3-4be1-fc15-602c49291c67"
      },
      "outputs": [
        {
          "ename": "AttributeError",
          "evalue": "'Hotel' object has no attribute 'gender'",
          "output_type": "error",
          "traceback": [
            "\u001b[1;31m---------------------------------------------------------------------------\u001b[0m",
            "\u001b[1;31mAttributeError\u001b[0m                            Traceback (most recent call last)",
            "Cell \u001b[1;32mIn[30], line 1\u001b[0m\n\u001b[1;32m----> 1\u001b[0m h\u001b[38;5;241m.\u001b[39mgender\n",
            "\u001b[1;31mAttributeError\u001b[0m: 'Hotel' object has no attribute 'gender'"
          ]
        }
      ],
      "source": [
        "h.gender"
      ]
    },
    {
      "cell_type": "code",
      "execution_count": null,
      "id": "c371509a-91a4-4590-bd21-b0ae0f21de04",
      "metadata": {
        "id": "c371509a-91a4-4590-bd21-b0ae0f21de04"
      },
      "outputs": [],
      "source": [
        "h.gender = 'male'"
      ]
    },
    {
      "cell_type": "code",
      "execution_count": null,
      "id": "518f9772-9ace-4dfe-8020-ca036934fec8",
      "metadata": {
        "id": "518f9772-9ace-4dfe-8020-ca036934fec8"
      },
      "outputs": [],
      "source": [
        "h.gender"
      ]
    },
    {
      "cell_type": "code",
      "execution_count": null,
      "id": "dc209912-71cf-4426-8972-08f5b6384921",
      "metadata": {
        "id": "dc209912-71cf-4426-8972-08f5b6384921"
      },
      "outputs": [],
      "source": [
        "##OOps power:\n",
        "# 1]Create your own data type\n",
        "# 2]Siplyfies big projects\n",
        "# 3]real world to software"
      ]
    },
    {
      "cell_type": "code",
      "execution_count": null,
      "id": "04712f53-a138-4207-a8d6-6bc5e830b5e5",
      "metadata": {
        "id": "04712f53-a138-4207-a8d6-6bc5e830b5e5"
      },
      "outputs": [],
      "source": []
    },
    {
      "cell_type": "markdown",
      "id": "cf7c2375-1a57-4aea-991b-697d2c3b7ac2",
      "metadata": {
        "id": "cf7c2375-1a57-4aea-991b-697d2c3b7ac2"
      },
      "source": [
        "## Referance varaibles"
      ]
    },
    {
      "cell_type": "code",
      "execution_count": null,
      "id": "7a06811a-0c6c-40f2-95b7-89b2d95c2c93",
      "metadata": {
        "id": "7a06811a-0c6c-40f2-95b7-89b2d95c2c93"
      },
      "outputs": [],
      "source": [
        "# a = ClaaName()\n",
        "\n",
        "# what is a?\n",
        "# --> we genarlly call it as a object but technically it is referance varaible.\n",
        "# -->we can create multiple referance varaible.\n",
        "# --> ClassName() -> this is real object and we are storing its address or reference in varaible (a) that why it is known as reference varaible.\n",
        "# -->changes made by one referance varaible apppies for all others."
      ]
    },
    {
      "cell_type": "code",
      "execution_count": null,
      "id": "2e8b5139-c681-4be2-9d55-6dd4dc807922",
      "metadata": {
        "id": "2e8b5139-c681-4be2-9d55-6dd4dc807922"
      },
      "outputs": [],
      "source": [
        "class Person:\n",
        "    def __init__(self,name):\n",
        "        self.name=name"
      ]
    },
    {
      "cell_type": "code",
      "execution_count": null,
      "id": "905e253c-0a94-44b0-9645-372c59853fb2",
      "metadata": {
        "id": "905e253c-0a94-44b0-9645-372c59853fb2"
      },
      "outputs": [],
      "source": [
        "a = Person('raj')\n",
        "b = a"
      ]
    },
    {
      "cell_type": "code",
      "execution_count": null,
      "id": "9c7d022a-e0f6-4078-a30a-298ff0a26fa0",
      "metadata": {
        "id": "9c7d022a-e0f6-4078-a30a-298ff0a26fa0"
      },
      "outputs": [],
      "source": [
        "print(id(b))\n",
        "print(id(a))"
      ]
    },
    {
      "cell_type": "code",
      "execution_count": null,
      "id": "c9686cc1-87c0-4b9f-9d5d-0df82ee7343f",
      "metadata": {
        "id": "c9686cc1-87c0-4b9f-9d5d-0df82ee7343f"
      },
      "outputs": [],
      "source": [
        "print(a.name)\n",
        "print(b.name)\n",
        "b.name = 'vardhan'\n",
        "print(a.name)\n",
        "print(b.name)"
      ]
    },
    {
      "cell_type": "code",
      "execution_count": null,
      "id": "ac7ba868-a3b4-4380-882b-1454d52daec9",
      "metadata": {
        "id": "ac7ba868-a3b4-4380-882b-1454d52daec9"
      },
      "outputs": [],
      "source": []
    },
    {
      "cell_type": "code",
      "execution_count": null,
      "id": "d0dd8644-fb81-47ae-bc3a-6b1ab71a0a8e",
      "metadata": {
        "id": "d0dd8644-fb81-47ae-bc3a-6b1ab71a0a8e"
      },
      "outputs": [],
      "source": [
        "#Casal method -> class ko likhne ka technique -> ex].RajName\n",
        "#class daiagram bhi kuch hota hain"
      ]
    },
    {
      "cell_type": "code",
      "execution_count": null,
      "id": "b141c287-ea6c-4437-ac8f-1b04eb727fe4",
      "metadata": {
        "id": "b141c287-ea6c-4437-ac8f-1b04eb727fe4"
      },
      "outputs": [],
      "source": []
    },
    {
      "cell_type": "markdown",
      "id": "7ce2c450-2030-4146-b379-364954289577",
      "metadata": {
        "id": "7ce2c450-2030-4146-b379-364954289577"
      },
      "source": [
        "## Pass by referance"
      ]
    },
    {
      "cell_type": "code",
      "execution_count": null,
      "id": "8cb0c194-fc8b-4722-917c-d90fb0e54f49",
      "metadata": {
        "id": "8cb0c194-fc8b-4722-917c-d90fb0e54f49"
      },
      "outputs": [],
      "source": [
        "#passing obj as a input to function not method -> real me hum refernace/addres bhejte hain not an obj\n",
        "#a function returning a obj"
      ]
    },
    {
      "cell_type": "code",
      "execution_count": null,
      "id": "f3a27b2b-4135-457f-8e6f-ed1d571e5417",
      "metadata": {
        "id": "f3a27b2b-4135-457f-8e6f-ed1d571e5417"
      },
      "outputs": [],
      "source": [
        "class Person:\n",
        "    def __init__(self,name,gender):\n",
        "        self.name = name\n",
        "        self.gender = gender\n",
        "\n",
        "\n",
        "def greet(self):\n",
        "    print(\"Hi my name is\",self.name,\"and i am \",self.gender)\n",
        "    p1 = Person('king','mer')\n",
        "    return p1\n",
        "\n"
      ]
    },
    {
      "cell_type": "code",
      "execution_count": null,
      "id": "ef1847ce-9254-4158-ad6e-bd81b23748f1",
      "metadata": {
        "id": "ef1847ce-9254-4158-ad6e-bd81b23748f1"
      },
      "outputs": [],
      "source": [
        "d = Person('Raj','male')\n"
      ]
    },
    {
      "cell_type": "code",
      "execution_count": null,
      "id": "abe018f2-3d8d-4e7e-bd07-3bb1665502dc",
      "metadata": {
        "id": "abe018f2-3d8d-4e7e-bd07-3bb1665502dc"
      },
      "outputs": [],
      "source": [
        "print(d)"
      ]
    },
    {
      "cell_type": "code",
      "execution_count": null,
      "id": "6a9d4c23-0522-499b-bcd8-b0f6fe0ab77e",
      "metadata": {
        "id": "6a9d4c23-0522-499b-bcd8-b0f6fe0ab77e"
      },
      "outputs": [],
      "source": [
        "p1 = greet(d)"
      ]
    },
    {
      "cell_type": "code",
      "execution_count": null,
      "id": "51b43937-5078-417c-a97b-78e06b2d3571",
      "metadata": {
        "id": "51b43937-5078-417c-a97b-78e06b2d3571"
      },
      "outputs": [],
      "source": [
        "print(p1.name)"
      ]
    },
    {
      "cell_type": "code",
      "execution_count": null,
      "id": "727c4d06-c5d4-4f03-9f79-5ddd0f9e696c",
      "metadata": {
        "id": "727c4d06-c5d4-4f03-9f79-5ddd0f9e696c"
      },
      "outputs": [],
      "source": [
        "print(id(d))\n",
        "print(id(p1))"
      ]
    },
    {
      "cell_type": "code",
      "execution_count": null,
      "id": "2e4af7f0-f94f-43d7-befe-5f4e927a1eb3",
      "metadata": {
        "id": "2e4af7f0-f94f-43d7-befe-5f4e927a1eb3"
      },
      "outputs": [],
      "source": []
    },
    {
      "cell_type": "markdown",
      "id": "b7bc3790-1ff7-4ac7-ae66-07d55985ee1d",
      "metadata": {
        "id": "b7bc3790-1ff7-4ac7-ae66-07d55985ee1d"
      },
      "source": [
        "## Object mutability"
      ]
    },
    {
      "cell_type": "code",
      "execution_count": null,
      "id": "cf43156d-d72f-4659-9677-5e929eed859e",
      "metadata": {
        "id": "cf43156d-d72f-4659-9677-5e929eed859e"
      },
      "outputs": [],
      "source": [
        "# Objects are mutable"
      ]
    },
    {
      "cell_type": "code",
      "execution_count": null,
      "id": "8d106996-6214-4bbf-93e0-13ed5babed2d",
      "metadata": {
        "id": "8d106996-6214-4bbf-93e0-13ed5babed2d"
      },
      "outputs": [],
      "source": [
        "class Person:\n",
        "    def __init__(self,name,gender):\n",
        "        self.name = name\n",
        "        self.gender = gender\n",
        "\n",
        "\n",
        "def greet(self):\n",
        "    print(\"Hi my name is\",self.name,\"and i am \",self.gender)\n",
        "    self.name=\"vardhan\"\n",
        "    return self"
      ]
    },
    {
      "cell_type": "code",
      "execution_count": null,
      "id": "e92221a9-8a67-452a-98fb-0c92019c27bd",
      "metadata": {
        "id": "e92221a9-8a67-452a-98fb-0c92019c27bd"
      },
      "outputs": [],
      "source": [
        "p = Person(\"raj\",\"male\")"
      ]
    },
    {
      "cell_type": "code",
      "execution_count": null,
      "id": "2eb67a6e-7576-4312-9dea-aca22ac221f5",
      "metadata": {
        "id": "2eb67a6e-7576-4312-9dea-aca22ac221f5"
      },
      "outputs": [],
      "source": [
        "self = greet(p)"
      ]
    },
    {
      "cell_type": "code",
      "execution_count": null,
      "id": "53bf85e6-b82b-49ec-afbe-c0db95a4329a",
      "metadata": {
        "id": "53bf85e6-b82b-49ec-afbe-c0db95a4329a"
      },
      "outputs": [],
      "source": [
        "id(p)"
      ]
    },
    {
      "cell_type": "code",
      "execution_count": null,
      "id": "89f3d705-aa44-4715-a57e-85585612cb92",
      "metadata": {
        "id": "89f3d705-aa44-4715-a57e-85585612cb92"
      },
      "outputs": [],
      "source": [
        "id(self)"
      ]
    },
    {
      "cell_type": "code",
      "execution_count": null,
      "id": "048cc7cb-dc1c-47e9-a19a-2ada5ffe4e64",
      "metadata": {
        "id": "048cc7cb-dc1c-47e9-a19a-2ada5ffe4e64"
      },
      "outputs": [],
      "source": [
        "p.name"
      ]
    },
    {
      "cell_type": "code",
      "execution_count": null,
      "id": "ac9ba2e9-b8ee-4db8-b3ec-776f73f7695a",
      "metadata": {
        "id": "ac9ba2e9-b8ee-4db8-b3ec-776f73f7695a"
      },
      "outputs": [],
      "source": []
    },
    {
      "cell_type": "markdown",
      "id": "c5b42545-d7b3-4b3f-a0a0-4d8345072bf4",
      "metadata": {
        "id": "c5b42545-d7b3-4b3f-a0a0-4d8345072bf4"
      },
      "source": [
        "## Encapsulation"
      ]
    },
    {
      "cell_type": "code",
      "execution_count": null,
      "id": "8aa2b085-ed3f-4aa7-bf15-ace9638d1b50",
      "metadata": {
        "id": "8aa2b085-ed3f-4aa7-bf15-ace9638d1b50"
      },
      "outputs": [],
      "source": [
        "#Instance varaibles\n",
        "# value of instance varaibles is different for each object\n",
        "\n",
        "class Person:\n",
        "    def __init__(self,name,gender): #name and gender are instamce varaibles\n",
        "        self.name = name\n",
        "        self.gender = gender\n"
      ]
    },
    {
      "cell_type": "code",
      "execution_count": null,
      "id": "3aafb9d9-879a-4385-9c45-7ffce0006612",
      "metadata": {
        "id": "3aafb9d9-879a-4385-9c45-7ffce0006612"
      },
      "outputs": [],
      "source": [
        "p1 = Person('raj','male')\n",
        "p2 = Person('vardhan','male')"
      ]
    },
    {
      "cell_type": "code",
      "execution_count": null,
      "id": "007e6adf-2631-4b6e-aa8e-92555106c052",
      "metadata": {
        "id": "007e6adf-2631-4b6e-aa8e-92555106c052"
      },
      "outputs": [],
      "source": [
        "p1.name"
      ]
    },
    {
      "cell_type": "code",
      "execution_count": null,
      "id": "0a0e5f69-4495-422c-b036-6f6276d69cac",
      "metadata": {
        "id": "0a0e5f69-4495-422c-b036-6f6276d69cac"
      },
      "outputs": [],
      "source": [
        "p2.name"
      ]
    },
    {
      "cell_type": "code",
      "execution_count": null,
      "id": "224a9444-43e8-421c-bc6f-d1023e70132a",
      "metadata": {
        "id": "224a9444-43e8-421c-bc6f-d1023e70132a"
      },
      "outputs": [],
      "source": [
        "id(p1)"
      ]
    },
    {
      "cell_type": "code",
      "execution_count": null,
      "id": "53472729-6782-4faa-ba7f-1d89ba3eda69",
      "metadata": {
        "id": "53472729-6782-4faa-ba7f-1d89ba3eda69"
      },
      "outputs": [],
      "source": [
        "id(p2)"
      ]
    },
    {
      "cell_type": "code",
      "execution_count": null,
      "id": "610a92f1-f3c9-431f-a3aa-a310dbf791b3",
      "metadata": {
        "id": "610a92f1-f3c9-431f-a3aa-a310dbf791b3"
      },
      "outputs": [],
      "source": []
    },
    {
      "cell_type": "code",
      "execution_count": null,
      "id": "95d8b390-2194-4917-b355-a268a326c8e3",
      "metadata": {
        "id": "95d8b390-2194-4917-b355-a268a326c8e3"
      },
      "outputs": [],
      "source": [
        "#\n",
        "# all attributes in class should br private ->good practice\n",
        "# how to make attributes private -> __attributeName\n",
        "#Python is for adults not for childs\n",
        "# jaha bhi sttribute use hor raha hain vo __attributeName isi name se use hoga!\n",
        "#how private varaibles stored in memeory -> _className__AttributrNmes\n",
        "#Junior senior programmer ki kahani"
      ]
    },
    {
      "cell_type": "code",
      "execution_count": null,
      "id": "72b1740f-ecc4-45c9-8605-5c04d4fdd196",
      "metadata": {
        "id": "72b1740f-ecc4-45c9-8605-5c04d4fdd196"
      },
      "outputs": [],
      "source": [
        "#Why to make varaibles private -> so that no one able to change values of attributes/infact . marne ke bad aaapo suggetion me bhi vo private varaible dikhai nahi dega\n",
        "# ObjName._ClassName__AttributeNmae = 'new value' -> privete varaible ka value change hoga\n",
        "#Their is nothing truly private in python\n",
        "#To ky fayda python ke private ka --> python is for adult not for kids"
      ]
    },
    {
      "cell_type": "code",
      "execution_count": null,
      "id": "bf951a0c-0eaa-48f3-8a54-5819289dd198",
      "metadata": {
        "id": "bf951a0c-0eaa-48f3-8a54-5819289dd198"
      },
      "outputs": [],
      "source": [
        "# Aise to kisi ko bhi us varaible ka value nahi dikhega agar kisis jnior ko chahiye hi hoga to kya karoge:\n",
        "#use getter and setter\n",
        "#private rehte hue use private attribute ka value get and set karna\n",
        "#obj nahi access kar sakta private attribute ko diretly, magar obj method aacess kar sakta hain and usse vo private wala attribute bhi acess ho sakta hain"
      ]
    },
    {
      "cell_type": "code",
      "execution_count": null,
      "id": "c89d919c-aef8-472f-b85b-79daf0a4e897",
      "metadata": {
        "id": "c89d919c-aef8-472f-b85b-79daf0a4e897"
      },
      "outputs": [],
      "source": [
        "class Person:\n",
        "    def __init__(self,name,bal): #name and gender are instamce varaibles\n",
        "        self.name = name\n",
        "        self.__bal = bal\n",
        "\n",
        "    def get_bal(self):\n",
        "        return self.__bal\n",
        "\n",
        "    def set_bal(self,new_val):\n",
        "        if type(new_val)==int:\n",
        "            self.__bal=new_val\n",
        "        else:\n",
        "            print(\"Beta bahut marenge\")\n",
        "\n",
        "\n",
        "\n"
      ]
    },
    {
      "cell_type": "code",
      "execution_count": null,
      "id": "ef1f5bd6-903b-4a7a-8afc-d02046bf8446",
      "metadata": {
        "id": "ef1f5bd6-903b-4a7a-8afc-d02046bf8446"
      },
      "outputs": [],
      "source": [
        "p = Person(\"King\",1000)"
      ]
    },
    {
      "cell_type": "code",
      "execution_count": null,
      "id": "8f8ca378-2697-47e3-a525-b8b4370b2a35",
      "metadata": {
        "id": "8f8ca378-2697-47e3-a525-b8b4370b2a35",
        "outputId": "01e776e4-7e14-4b46-e430-4cdeb8dc89d9"
      },
      "outputs": [
        {
          "data": {
            "text/plain": [
              "20000"
            ]
          },
          "execution_count": 43,
          "metadata": {},
          "output_type": "execute_result"
        }
      ],
      "source": [
        "p.get_bal()"
      ]
    },
    {
      "cell_type": "code",
      "execution_count": null,
      "id": "d13040a1-0e2c-4ccd-a2e0-9035f1d9997f",
      "metadata": {
        "id": "d13040a1-0e2c-4ccd-a2e0-9035f1d9997f"
      },
      "outputs": [],
      "source": [
        "p.set_bal(20000)"
      ]
    },
    {
      "cell_type": "code",
      "execution_count": null,
      "id": "86fa81a4-1dae-4dcf-b745-817d9269cd48",
      "metadata": {
        "id": "86fa81a4-1dae-4dcf-b745-817d9269cd48",
        "outputId": "bfdbeb06-f06e-4bc1-c850-94137b3e67a5"
      },
      "outputs": [
        {
          "name": "stdout",
          "output_type": "stream",
          "text": [
            "Beta bahut marenge\n"
          ]
        }
      ],
      "source": [
        "p.set_bal('hehehe')"
      ]
    },
    {
      "cell_type": "code",
      "execution_count": null,
      "id": "0f7b9b02-a179-4500-9610-ce03a745df6b",
      "metadata": {
        "id": "0f7b9b02-a179-4500-9610-ce03a745df6b",
        "outputId": "98d8340e-3dfc-4d3b-d5e2-650b818e51bb"
      },
      "outputs": [
        {
          "data": {
            "text/plain": [
              "20000"
            ]
          },
          "execution_count": 45,
          "metadata": {},
          "output_type": "execute_result"
        }
      ],
      "source": [
        "p.get_bal()"
      ]
    },
    {
      "cell_type": "code",
      "execution_count": null,
      "id": "ad85fde0-a0df-41cd-b07a-6f7561b95986",
      "metadata": {
        "id": "ad85fde0-a0df-41cd-b07a-6f7561b95986"
      },
      "outputs": [],
      "source": [
        "#You can't access private attributes outside the classs\n",
        "#whrn you have to use it always use like self.__name"
      ]
    },
    {
      "cell_type": "code",
      "execution_count": null,
      "id": "d69671d1-d634-472f-944f-485a6d0c2ebf",
      "metadata": {
        "id": "d69671d1-d634-472f-944f-485a6d0c2ebf"
      },
      "outputs": [],
      "source": [
        "p.__bal='kya be'"
      ]
    },
    {
      "cell_type": "code",
      "execution_count": null,
      "id": "2b229a46-aa2c-4550-988f-031092408dcf",
      "metadata": {
        "id": "2b229a46-aa2c-4550-988f-031092408dcf",
        "outputId": "1e0b1e8f-2179-4f87-e507-ac9782ab96ea"
      },
      "outputs": [
        {
          "data": {
            "text/plain": [
              "'kya be'"
            ]
          },
          "execution_count": 47,
          "metadata": {},
          "output_type": "execute_result"
        }
      ],
      "source": [
        "p.__bal"
      ]
    },
    {
      "cell_type": "code",
      "execution_count": null,
      "id": "e591595b-9eda-4b0c-ad54-c377487216bb",
      "metadata": {
        "id": "e591595b-9eda-4b0c-ad54-c377487216bb",
        "outputId": "9ff347b0-b811-42a1-960c-dd64e16fbee7"
      },
      "outputs": [
        {
          "data": {
            "text/plain": [
              "20000"
            ]
          },
          "execution_count": 48,
          "metadata": {},
          "output_type": "execute_result"
        }
      ],
      "source": [
        "p.get_bal()"
      ]
    },
    {
      "cell_type": "code",
      "execution_count": null,
      "id": "df9ba8bf-2bfb-4a55-8c80-ee8f0e90bf29",
      "metadata": {
        "id": "df9ba8bf-2bfb-4a55-8c80-ee8f0e90bf29"
      },
      "outputs": [],
      "source": []
    },
    {
      "cell_type": "code",
      "execution_count": null,
      "id": "023fd327-6197-494d-98eb-3f06c203a3d1",
      "metadata": {
        "id": "023fd327-6197-494d-98eb-3f06c203a3d1"
      },
      "outputs": [],
      "source": [
        "#You can wrap up objects into list/set and treat as normal list or dictionary"
      ]
    },
    {
      "cell_type": "code",
      "execution_count": null,
      "id": "eecb60ab-9643-4e61-aa5c-34f9c5e424e6",
      "metadata": {
        "id": "eecb60ab-9643-4e61-aa5c-34f9c5e424e6"
      },
      "outputs": [],
      "source": []
    },
    {
      "cell_type": "markdown",
      "id": "16594c20-4351-4b05-891c-522e41b94546",
      "metadata": {
        "id": "16594c20-4351-4b05-891c-522e41b94546"
      },
      "source": [
        "## Instance vs static"
      ]
    },
    {
      "cell_type": "code",
      "execution_count": null,
      "id": "54dc9410-2fda-45ef-8144-7f87f37ad33c",
      "metadata": {
        "id": "54dc9410-2fda-45ef-8144-7f87f37ad33c"
      },
      "outputs": [],
      "source": [
        "# 1] Instance varaible is varaible of obj\n",
        "#  static varaible is varaible of class\n",
        "\n",
        "# 2]Instance varaibles's value is different for each obj\n",
        "#  static varaibles's value is same for each obj\n",
        "\n",
        "# 3] Instance varaible declered inside constructor\n",
        "#  local varaible declered outside all method inside class\n",
        "\n",
        "# 4] Instance varaible Declered using objname.varaiblename\n",
        "#    static varaible Declered using classname.varaiblename\n",
        "\n",
        "\n",
        "#Check application then decide which is instance and which is ststic\n"
      ]
    },
    {
      "cell_type": "code",
      "execution_count": null,
      "id": "7801fc58-5a6d-4284-874f-d2319442b4f7",
      "metadata": {
        "id": "7801fc58-5a6d-4284-874f-d2319442b4f7"
      },
      "outputs": [],
      "source": [
        "class Atm:\n",
        "\n",
        "  __counter = 1\n",
        "\n",
        "  # constructor(special function)->superpower ->\n",
        "  def __init__(self):\n",
        "    print(id(self))\n",
        "    self.pin = ''\n",
        "    self.__balance = 0\n",
        "    self.cid = Atm.__counter\n",
        "    Atm.__counter = Atm.__counter + 1\n",
        "    #self.menu()\n",
        "\n",
        "  # utility functions\n",
        "  @staticmethod\n",
        "  def get_counter():\n",
        "    return Atm.__counter\n",
        "\n",
        "\n",
        "  def get_balance(self):\n",
        "    return self.__balance\n",
        "\n",
        "  def set_balance(self,new_value):\n",
        "    if type(new_value) == int:\n",
        "      self.__balance = new_value\n",
        "    else:\n",
        "      print('beta bahot maarenge')\n",
        "\n",
        "  def __menu(self):\n",
        "    user_input = input(\"\"\"\n",
        "    Hi how can I help you?\n",
        "    1. Press 1 to create pin\n",
        "    2. Press 2 to change pin\n",
        "    3. Press 3 to check balance\n",
        "    4. Press 4 to withdraw\n",
        "    5. Anything else to exit\n",
        "    \"\"\")\n",
        "\n",
        "    if user_input == '1':\n",
        "      self.create_pin()\n",
        "    elif user_input == '2':\n",
        "      self.change_pin()\n",
        "    elif user_input == '3':\n",
        "      self.check_balance()\n",
        "    elif user_input == '4':\n",
        "      self.withdraw()\n",
        "    else:\n",
        "      exit()\n",
        "\n",
        "  def create_pin(self):\n",
        "    user_pin = input('enter your pin')\n",
        "    self.pin = user_pin\n",
        "\n",
        "    user_balance = int(input('enter balance'))\n",
        "    self.__balance = user_balance\n",
        "\n",
        "    print('pin created successfully')\n",
        "\n",
        "  def change_pin(self):\n",
        "    old_pin = input('enter old pin')\n",
        "\n",
        "    if old_pin == self.pin:\n",
        "      # let him change the pin\n",
        "      new_pin = input('enter new pin')\n",
        "      self.pin = new_pin\n",
        "      print('pin change successful')\n",
        "    else:\n",
        "      print('nai karne de sakta re baba')\n",
        "\n",
        "  def check_balance(self):\n",
        "    user_pin = input('enter your pin')\n",
        "    if user_pin == self.pin:\n",
        "      print('your balance is ',self.__balance)\n",
        "    else:\n",
        "      print('chal nikal yahan se')\n",
        "\n",
        "  def withdraw(self):\n",
        "    user_pin = input('enter the pin')\n",
        "    if user_pin == self.pin:\n",
        "      # allow to withdraw\n",
        "      amount = int(input('enter the amount'))\n",
        "      if amount <= self.__balance:\n",
        "        self.__balance = self.__balance - amount\n",
        "        print('withdrawl successful.balance is',self.__balance)\n",
        "      else:\n",
        "        print('abe garib')\n",
        "    else:\n",
        "      print('sale chor')"
      ]
    },
    {
      "cell_type": "code",
      "execution_count": null,
      "id": "67013b5e-0ae6-4feb-be45-bfc4197368c5",
      "metadata": {
        "id": "67013b5e-0ae6-4feb-be45-bfc4197368c5",
        "outputId": "409f5e5c-fb27-4726-ae48-c483fcab28e9"
      },
      "outputs": [
        {
          "name": "stdout",
          "output_type": "stream",
          "text": [
            "2504739028144\n"
          ]
        }
      ],
      "source": [
        "c1 = Atm()"
      ]
    },
    {
      "cell_type": "code",
      "execution_count": null,
      "id": "d4ada636-fe99-4741-9772-ef3e68c105e0",
      "metadata": {
        "id": "d4ada636-fe99-4741-9772-ef3e68c105e0",
        "outputId": "ba8e1843-f44d-42d5-f656-ae41846a4c3f"
      },
      "outputs": [
        {
          "data": {
            "text/plain": [
              "2"
            ]
          },
          "execution_count": 3,
          "metadata": {},
          "output_type": "execute_result"
        }
      ],
      "source": [
        "Atm.get_counter()"
      ]
    },
    {
      "cell_type": "code",
      "execution_count": null,
      "id": "16c8cba5-aafb-4de7-9954-2e520ea271ba",
      "metadata": {
        "id": "16c8cba5-aafb-4de7-9954-2e520ea271ba",
        "outputId": "55e05ab5-38d6-46ef-8042-c955267ad1db"
      },
      "outputs": [
        {
          "name": "stdout",
          "output_type": "stream",
          "text": [
            "2504718393232\n"
          ]
        }
      ],
      "source": [
        "c3 = Atm()"
      ]
    },
    {
      "cell_type": "code",
      "execution_count": null,
      "id": "52f0fe2b-e3d4-44f4-9ef8-f38320763940",
      "metadata": {
        "id": "52f0fe2b-e3d4-44f4-9ef8-f38320763940",
        "outputId": "44a96c5b-d2a6-4c76-e79f-0bfcbff5fbc3"
      },
      "outputs": [
        {
          "data": {
            "text/plain": [
              "2"
            ]
          },
          "execution_count": 5,
          "metadata": {},
          "output_type": "execute_result"
        }
      ],
      "source": [
        "c3.cid"
      ]
    },
    {
      "cell_type": "code",
      "execution_count": null,
      "id": "fbb8ce95-54de-45ca-bc3b-981f12dd58fd",
      "metadata": {
        "id": "fbb8ce95-54de-45ca-bc3b-981f12dd58fd"
      },
      "outputs": [],
      "source": [
        "# Atm.counter # it is private"
      ]
    },
    {
      "cell_type": "code",
      "execution_count": null,
      "id": "60f95cef-24eb-4982-99cd-9da2cd92ac1f",
      "metadata": {
        "id": "60f95cef-24eb-4982-99cd-9da2cd92ac1f"
      },
      "outputs": [],
      "source": []
    },
    {
      "cell_type": "markdown",
      "id": "72e073fd-9b14-4262-97a3-7c6eb9d7a975",
      "metadata": {
        "id": "72e073fd-9b14-4262-97a3-7c6eb9d7a975"
      },
      "source": [
        "## Static method"
      ]
    },
    {
      "cell_type": "code",
      "execution_count": null,
      "id": "8813a84a-ea10-4d10-8a89-25aede78e6a1",
      "metadata": {
        "id": "8813a84a-ea10-4d10-8a89-25aede78e6a1"
      },
      "outputs": [],
      "source": [
        "#Decorater = @staticmethod\n",
        "#obj ki need nahi hoti\n",
        "#utility function ke liye use kiya jata hain\n",
        "# ststic varaibles ke liye vo pura instance varible ka privtate wala logic apply hota haian\n",
        "# attribute = getter and setter"
      ]
    },
    {
      "cell_type": "code",
      "execution_count": null,
      "id": "8ecc851e-1ede-4945-a2b1-878aadbb4616",
      "metadata": {
        "id": "8ecc851e-1ede-4945-a2b1-878aadbb4616",
        "outputId": "854e6ae9-4391-42ea-facc-053a51696f9b"
      },
      "outputs": [
        {
          "name": "stdout",
          "output_type": "stream",
          "text": [
            "Simba drinks water from the well in the circus\n",
            "Water source of lions: well in the circus\n"
          ]
        }
      ],
      "source": [
        "class Lion:\n",
        "  __water_source=\"well in the circus\"\n",
        "\n",
        "  def __init__(self,name, gender):\n",
        "      self.__name=name\n",
        "      self.__gender=gender\n",
        "\n",
        "  def drinks_water(self):\n",
        "      print(self.__name,\n",
        "      \"drinks water from the\",Lion.__water_source)\n",
        "\n",
        "  @staticmethod\n",
        "  def get_water_source():\n",
        "      return Lion.__water_source\n",
        "\n",
        "simba=Lion(\"Simba\",\"Male\")\n",
        "simba.drinks_water()\n",
        "print( \"Water source of lions:\",Lion.get_water_source())"
      ]
    },
    {
      "cell_type": "code",
      "execution_count": null,
      "id": "035274b3-86e0-48e2-a38f-1a6e2f31f3c7",
      "metadata": {
        "id": "035274b3-86e0-48e2-a38f-1a6e2f31f3c7"
      },
      "outputs": [],
      "source": [
        "# ##### Points to remember about static\n",
        "\n",
        "# - Static attributes are created at class level.\n",
        "# - Static attributes are accessed using ClassName.\n",
        "# - Static attributes are object independent. We can access them without creating instance (object) of the class in which they are defined.\n",
        "# - The value stored in static attribute is shared between all instances(objects) of the class in which the static attribute is defined."
      ]
    },
    {
      "cell_type": "code",
      "execution_count": null,
      "id": "483e826f-7852-4c99-9bf1-4b3275acd5b9",
      "metadata": {
        "id": "483e826f-7852-4c99-9bf1-4b3275acd5b9"
      },
      "outputs": [],
      "source": []
    }
  ],
  "metadata": {
    "kernelspec": {
      "display_name": "Python 3 (ipykernel)",
      "language": "python",
      "name": "python3"
    },
    "language_info": {
      "codemirror_mode": {
        "name": "ipython",
        "version": 3
      },
      "file_extension": ".py",
      "mimetype": "text/x-python",
      "name": "python",
      "nbconvert_exporter": "python",
      "pygments_lexer": "ipython3",
      "version": "3.13.5"
    },
    "colab": {
      "provenance": [],
      "include_colab_link": true
    }
  },
  "nbformat": 4,
  "nbformat_minor": 5
}